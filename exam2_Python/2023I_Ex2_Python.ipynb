{
 "cells": [
  {
   "cell_type": "markdown",
   "metadata": {
    "id": "CEZHzeOFsfj6"
   },
   "source": [
    "<img src=\"https://upload.wikimedia.org/wikipedia/commons/d/de/Logotipo_Ikiam.png\" width=250 height=200 />\n",
    "<font color='blue'>\n",
    "\n",
    "\n",
    "# <center><h1 style=\"color:black\">EXAMEN PARCIAL PYTHON</h1></center>\n",
    "    \n",
    "## <font><h style=\"color:black\">GBI6 - BIOINFORMÁTICA</h></font>\n",
    " \n",
    "**Nombre:**<font color='black'> Catota Calo Lidia Nataly</font>\n",
    "**Provincia:**<font color='black'> Cotopaxi</font>\n",
    "**Grupo:**<font color='black'> G01</font>\n",
    "**Fecha:**<font color='black'> 01-07-2023</font>\n"
   ]
  },
  {
   "cell_type": "markdown",
   "metadata": {
    "id": "tGwhY7HlsfkC"
   },
   "source": [
    "## Ejercicio 0.1 [0.5 puntos]\n",
    "Realice cambios al cuaderno de jupyter: \n",
    "- Agregue el logo de la Universidad\n",
    "- Coloque sus datos personales \n",
    "- Use el terminal para crear las carpetas `results` y `data`.\n",
    "- Use el terminal y mueva `gstm.txt` que tiene un listado de accesiones de glutathione transferase a la carpeta `data`.\n"
   ]
  },
  {
   "cell_type": "code",
   "execution_count": 10,
   "metadata": {},
   "outputs": [],
   "source": [
    "import os\n"
   ]
  },
  {
   "cell_type": "code",
   "execution_count": 11,
   "metadata": {},
   "outputs": [],
   "source": [
    "# Nombre de la carpeta \n",
    "folder_name = \"results\"\n"
   ]
  },
  {
   "cell_type": "code",
   "execution_count": 12,
   "metadata": {},
   "outputs": [],
   "source": [
    "# Crear carpeta \n",
    "mkadir = \"results\"\n",
    "\n"
   ]
  },
  {
   "cell_type": "code",
   "execution_count": 13,
   "metadata": {},
   "outputs": [],
   "source": [
    "# Nombre de la carpeta \n",
    "folder_name = \"data\""
   ]
  },
  {
   "cell_type": "code",
   "execution_count": 14,
   "metadata": {},
   "outputs": [],
   "source": [
    "# Crear carpeta \n",
    "mkadir = \"data\""
   ]
  },
  {
   "cell_type": "code",
   "execution_count": 17,
   "metadata": {},
   "outputs": [],
   "source": [
    "file_source = \"gstm.txt\"\n",
    "file_destination = \"data\""
   ]
  },
  {
   "cell_type": "markdown",
   "metadata": {
    "id": "zXz2VQ92sfkE"
   },
   "source": [
    "## Ejercicio 1 [4.0 puntos]\n",
    "\n",
    "Cargue el módulo `popsimulate`, luego: \n",
    "\n",
    "1.1. explique lo que hace cada línea de la función `build_population`, simule un ejemplo y explique el resultado. \n",
    "\n",
    "1.2. explique lo que hace cada línea de la función `compute_frequencies`, simule un ejemplo y explique el resultado. \n",
    "\n",
    "1.3. explique lo que hace cada línea de la función `reproduce_population`, simule un ejemplo y explique el resultado. \n",
    "\n",
    "1.4. explique lo que hace cada línea de la función `simulate_drift`, simule un ejemplo y explique el resultado. "
   ]
  },
  {
   "cell_type": "code",
   "execution_count": 24,
   "metadata": {
    "id": "6nZuF5_ksfkF"
   },
   "outputs": [],
   "source": [
    "import popsimulate\n"
   ]
  },
  {
   "cell_type": "code",
   "execution_count": 22,
   "metadata": {},
   "outputs": [],
   "source": [
    "def build_population(N, p):\n",
    "    population = []\n",
    "    for i in range(N):\n",
    "        allele1 = \"A\"\n",
    "        if scipy.random.rand() > p:\n",
    "            allele1 = \"a\"\n",
    "        allele2 = \"A\"\n",
    "        if scipy.random.rand() > p:\n",
    "            allele2 = \"a\"\n",
    "        population.append((allele1, allele2))\n",
    "    return population"
   ]
  },
  {
   "cell_type": "markdown",
   "metadata": {},
   "source": [
    "#Ejercico 1.1 explique lo que hace cada línea de la función build_population\n",
    "- Define la funcion def build_population(N, p): N = representa el tamaño de la población p= es la probabilidad de tener un   \"a\" recesivo en lugar de un alelo \"A\" dominadte.\n",
    "- population = [] crea una lista vacia llamada pollution que se utilizara para almacenar los indiviuod de la poblacion.\n",
    "- for i in range(N): el bucle se ejecuta N veces tiene que estar especificado con un parametro, esto quiere decir que se     generara N individus en la población.\n",
    "    \n",
    "- if scipy.random.rand() > p: veifica si un numero aleatorio es mayor que p (la probabilidad de tener el alelo \"a\"). Si es   numero aleatorio es mayor que p, asigna \"a\" a allele1, de lo contrario que se mantega como \"A\"\n",
    "        \n",
    "- if scipy.random.rand() > p: se genera otro numero aleatorio y si es mayor que p \"a\" se asigne a allele2 \"a\"\n",
    "            \n",
    "- population.append((allele1, allele2)) crea una tupla, representa dos alelos del indiviudo y agrega a la lista population.\n",
    "- return population  Retorna la lista population que contiene todo los individuos generados. \n",
    "                       \n",
    "        "
   ]
  },
  {
   "cell_type": "code",
   "execution_count": 37,
   "metadata": {},
   "outputs": [
    {
     "name": "stdout",
     "output_type": "stream",
     "text": [
      "Población generada: [110, 36, 43, 80, 13, 158, 79, 141, 25, 193, 61, 165, 145, 53, 40, 68, 166, 153, 194, 2]\n"
     ]
    }
   ],
   "source": [
    "# Escriba aquí su código para el ejercicio 1.1\n",
    "import random\n",
    "\n",
    "def build_population(N, min_value, max_value):\n",
    "    population = []\n",
    "    for _ in range(N):\n",
    "        number = random.randint(min_value, max_value)\n",
    "        population.append(number)\n",
    "    return population\n",
    "\n",
    "\n",
    "population_size = 20\n",
    "min_num = 1\n",
    "max_num = 200\n",
    "\n",
    "population = build_population(population_size, min_num, max_num)\n",
    "print(\"Población generada:\", population)"
   ]
  },
  {
   "cell_type": "code",
   "execution_count": 57,
   "metadata": {},
   "outputs": [
    {
     "name": "stdout",
     "output_type": "stream",
     "text": [
      "Frecuencias de genotipos: {'AA': 3, 'aa': 1, 'Aa': 2, 'aA': 0}\n"
     ]
    }
   ],
   "source": [
    "# 1.2. explique lo que hace cada línea de la función compute_frequencies, simule un ejemplo y explique el resultado\n",
    "def compute_frequencies(population):\n",
    "    AA = population.count((\"A\", \"A\"))\n",
    "    Aa = population.count((\"A\", \"a\"))\n",
    "    aA = population.count((\"a\", \"A\"))\n",
    "    aa = population.count((\"a\", \"a\"))\n",
    "    return({\"AA\": AA, \"aa\": aa, \"Aa\": Aa, \"aA\": aA})\n",
    "  \n",
    "# Ejemplo                    \n",
    "population = [(\"A\", \"A\"), (\"A\", \"A\"), (\"A\", \"a\"), (\"A\", \"a\"), (\"a\", \"a\"), (\"A\", \"A\")]\n",
    "frequencies = compute_frequencies(population)\n",
    "print(\"Frecuencias de genotipos:\", frequencies)\n"
   ]
  },
  {
   "cell_type": "code",
   "execution_count": 62,
   "metadata": {},
   "outputs": [],
   "source": [
    "# 1.3. explique lo que hace cada línea de la función reproduce_population, simule un ejemplo y explique el resultado.\n",
    "\n",
    "def reproduce_population(population): # Definir la funcion polution represnta la poblacion de los individuos\n",
    "    new_generation = [] # crear una lista vacia que se genera para almacenar los datos.\n",
    "    N = len(population)# asigna tamaño de la polabion de la variable N\n",
    "    for i in range(N): # se ejecuta N veces \n",
    "        dad = np.random.randint(N)# Seleciona aleatoriamente un padre de la poblacion para su representacion\n",
    "        mom = np.random.randint(N)# Seleciona una madre aleatoriamente de la poblacion para su representacion\n",
    "        chr_mom = np.random.randint(2) # Seleciona un cromosa de la madre 0 o 1 de forma aleatoria \n",
    "        offspring = (population[mom][chr_mom], population[dad][1 - chr_mom])# Crear un decendiente utilizando los alelos madre y padre.\n",
    "        new_generation.append(offspring)\n",
    "    return new_generation # Retorna los decendientes generados de dad y mom\n"
   ]
  },
  {
   "cell_type": "code",
   "execution_count": 74,
   "metadata": {
    "scrolled": true
   },
   "outputs": [
    {
     "name": "stdout",
     "output_type": "stream",
     "text": [
      "Poblacion original: [('A', 'A'), ('A', 'a'), ('a', 'A'), ('a', 'a')]\n",
      "Nueva generacion: [('A', 'a'), ('A', 'A'), ('A', 'a'), ('a', 'a')]\n"
     ]
    }
   ],
   "source": [
    "import numpy as np\n",
    "\n",
    "def reproduce_population(population):\n",
    "    new_generation = []\n",
    "    N = len(population)\n",
    "    for i in range(N):\n",
    "        dad = np.random.randint(N)\n",
    "        mom = np.random.randint(N)\n",
    "        chr_mom = np.random.randint(2)\n",
    "        offspring = (population[mom][chr_mom], population[dad][1 - chr_mom])\n",
    "        new_generation.append(offspring)\n",
    "    return new_generation\n",
    "\n",
    "# Ejemplo \n",
    "population = [(\"A\", \"A\"), (\"A\", \"a\"), (\"a\", \"A\"), (\"a\", \"a\")]\n",
    "print(\"Poblacion original:\", population)\n",
    "               \n",
    "new_population = reproduce_population(population)\n",
    "print (\"Nueva generacion:\", new_population)\n",
    "\n"
   ]
  },
  {
   "cell_type": "code",
   "execution_count": 81,
   "metadata": {},
   "outputs": [],
   "source": [
    "# 1.4. explique lo que hace cada línea de la función simulate_drift, simule un ejemplo y explique el resultado.\n",
    "def simulate_drift(N, p): # Definir la fucion con dos parametros N= representa tamaño de la poblacion p= representa la frecuencia alelica\n",
    "    my_pop = build_population(N, p) # Crea una funcion inicial \n",
    "    fixation = False # Esta variable determina si un alleo ha alzando la fijacion en la poblacion\n",
    "    num_generations = 0 # inicializa una variable en numero de generaciones 0 esta varible la cuenta \n",
    "    while fixation == False: # Ejecute la fijacion del alelo que no haya ocurrido \n",
    "        genotype_counts = compute_frequencies(my_pop) # Calcula las frecuencias genotipicas en la poblacion y lo guarda \n",
    "        if (genotype_counts[\"AA\"] == N or genotype_counts[\"aa\"] == N): # Verifique si el alelo \"AA\" O \"aa\" han alcanzado la fijacion en la poblacion\n",
    "            print(\"An allele reached fixation at generation\", num_generations) # Imprime un mensaje indicando en que generacion ocurrio la fijacion y se muestra el recuento de los genotipos\n",
    "            print(\"The genotype counts are\")\n",
    "            print(genotype_counts)\n",
    "            fixation == True # Asigna True la variable fijacion para indicar si alcanza la fijacion \n",
    "            break # Termina el bucle y se sale \n",
    "        my_pop = reproduce_population(my_pop) # Genera las poblaciones utilizando \n",
    "        num_generations += 1 # incremanta en 1 el numero de generaciones \n",
    "    return num_generations, genotype_counts # Al final el bucle , retorna el numero total de generaciones y el reconteo de los genotipos en la poblacion final. "
   ]
  },
  {
   "cell_type": "code",
   "execution_count": 83,
   "metadata": {},
   "outputs": [
    {
     "name": "stdout",
     "output_type": "stream",
     "text": [
      "Un alelo alcanzó la fijación en la generación 15\n",
      "Los recuentos de genotipos son\n",
      "{'AA': 0, 'aa': 10, 'Aa': 0, 'aA': 0}\n",
      "Numero de generaciones: 15\n",
      "Recuentos de genotipos: {'AA': 0, 'aa': 10, 'Aa': 0, 'aA': 0}\n"
     ]
    }
   ],
   "source": [
    "import numpy as np\n",
    "\n",
    "# Definir la función build_population\n",
    "def build_population(N, p):\n",
    "    population = []\n",
    "    for i in range(N):\n",
    "        allele1 = \"A\"\n",
    "        if np.random.rand() > p:\n",
    "            allele1 = \"a\"\n",
    "        allele2 = \"A\"\n",
    "        if np.random.rand() > p:\n",
    "            allele2 = \"a\"\n",
    "        population.append((allele1, allele2))\n",
    "    return population\n",
    "\n",
    "# Definir la función compute_frequencies\n",
    "def compute_frequencies(population):\n",
    "    AA = population.count((\"A\", \"A\"))\n",
    "    Aa = population.count((\"A\", \"a\"))\n",
    "    aA = population.count((\"a\", \"A\"))\n",
    "    aa = population.count((\"a\", \"a\"))\n",
    "    return {\"AA\": AA, \"aa\": aa, \"Aa\": Aa, \"aA\": aA}\n",
    "\n",
    "# Definir la función reproduce_population\n",
    "def reproduce_population(population):\n",
    "    new_generation = []\n",
    "    N = len(population)\n",
    "    for i in range(N):\n",
    "        dad = np.random.randint(N)\n",
    "        mom = np.random.randint(N)\n",
    "        chr_mom = np.random.randint(2)\n",
    "        offspring = (population[mom][chr_mom], population[dad][1 - chr_mom])\n",
    "        new_generation.append(offspring)\n",
    "    return new_generation\n",
    "\n",
    "# Definir la función simulate_drift\n",
    "def simulate_drift(N, p):\n",
    "    my_pop = build_population(N, p)\n",
    "    fixation = False\n",
    "    num_generations = 0\n",
    "    while fixation == False:\n",
    "        genotype_counts = compute_frequencies(my_pop)\n",
    "        if (genotype_counts[\"AA\"] == N or genotype_counts[\"aa\"] == N):\n",
    "            print(\"Un alelo alcanzó la fijación en la generación\", num_generations)\n",
    "            print(\"Los recuentos de genotipos son\")\n",
    "            print(genotype_counts)\n",
    "            fixation = True\n",
    "            break\n",
    "        my_pop = reproduce_population(my_pop)\n",
    "        num_generations += 1\n",
    "    return num_generations, genotype_counts\n",
    "\n",
    "# Ejemplo \n",
    "population_size = 10\n",
    "allele_frequecy = 0.5\n",
    "num_generations, genotype_counst = simulate_drift(population_size, allele_frequecy)\n",
    "print(\"Numero de generaciones:\", num_generations)\n",
    "print(\"Recuentos de genotipos:\", genotype_counts)"
   ]
  },
  {
   "cell_type": "markdown",
   "metadata": {
    "id": "Hs7dXkwxsfkG"
   },
   "source": [
    "## Ejercicio 2 [5.0 puntos]\n",
    "\n",
    "Cree el modulo `glutransferase.py` y genere las siguientes funciones:\n",
    "\n",
    "2.1. `source` que se conecte al `NCBI` y `Nucleotide` para extraer el nombre del organismo fuente y que cuente la frecuencia de cada especie. Guarde el resultado en `results/source.csv`\n",
    "\n",
    "2.2. `sequences` que se conecte al `NCBI` y `Nucleotide` para extraer la secuencia de ADN, que se realice la traducción y separación de péptidos. Asegurarse que los péptidos empiezan en metionina. Luego calcule `molecular weight` e `instability index`. Genere un `joinplot` utilizando los valores de peso molecular e índice de estabilidad. Edite color, tamaño y tipo de puntos, asimismo etiquete adecuadamente el título y los ejes. Guarde los resultados en `results/glupeptides.csv` y `results/glupeptides.png`.\n",
    "\n",
    "**No escriba las funciones en este cuaderno de jupyter**\n",
    "\n",
    "2.3. Use la lista de accesiones en `data/gstm.txt`, cargue el módulo `glutransferase` y ejecute las dos funciones. "
   ]
  },
  {
   "cell_type": "code",
   "execution_count": 86,
   "metadata": {
    "id": "AG42g3o2sfkJ"
   },
   "outputs": [
    {
     "name": "stdout",
     "output_type": "stream",
     "text": [
      "Species information saved to results/source.csv\n"
     ]
    }
   ],
   "source": [
    "# 2.1\n",
    "from Bio import Entrez\n",
    "import csv\n",
    "\n",
    "def fetch_species_info(accession):\n",
    "    handle = Entrez.efetch(db=\"nucleotide\", id=accession, rettype=\"gb\", retmode=\"text\")\n",
    "    record = handle.read()\n",
    "    handle.close()\n",
    "    return record\n",
    "\n",
    "def parse_species_info(record):\n",
    "    species_info = {}\n",
    "    for line in record.split(\"\\n\"):\n",
    "        if line.startswith(\"  ORGANISM\"):\n",
    "            species_name = line.split(\"  ORGANISM\")[1].strip()\n",
    "            if species_name in species_info:\n",
    "                species_info[species_name] += 1\n",
    "            else:\n",
    "                species_info[species_name] = 1\n",
    "    return species_info\n",
    "\n",
    "def save_species_info(species_info, filename):\n",
    "    with open(filename, \"w\", newline=\"\") as csvfile:\n",
    "        writer = csv.writer(csvfile)\n",
    "        writer.writerow([\"Species\", \"Frequency\"])\n",
    "        for species, frequency in species_info.items():\n",
    "            writer.writerow([species, frequency])\n",
    "\n",
    "def main(accessions, filename):\n",
    "    species_info = {}\n",
    "    for accession in accessions:\n",
    "        record = fetch_species_info(accession)\n",
    "        species_info.update(parse_species_info(record))\n",
    "    save_species_info(species_info, filename)\n",
    "    print(\"Species information saved to\", filename)\n",
    "\n",
    "# Configura tus credenciales de NCBI\n",
    "Entrez.email = \"lidia.catota@est.ikiam.edu.ec\"\n",
    "\n",
    "# Lista de accessions de las secuencias que deseas obtener información\n",
    "accessions = [\"NM_001276933\", \"NM_001276934\", \"NM_001276935\"]\n",
    "\n",
    "# Nombre del archivo de resultados\n",
    "filename = \"results/source.csv\"\n",
    "\n",
    "# Ejecuta el programa principal\n",
    "main(accessions, filename)\n",
    "\n"
   ]
  },
  {
   "cell_type": "code",
   "execution_count": 87,
   "metadata": {},
   "outputs": [
    {
     "data": {
      "image/png": "[encoded data removed]",
      "text/plain": [
       "<Figure size 576x432 with 1 Axes>"
      ]
     },
     "metadata": {
      "needs_background": "light"
     },
     "output_type": "display_data"
    }
   ],
   "source": [
    "#Ejercicio 2.2\n",
    "import pandas as pd\n",
    "import matplotlib.pyplot as plt\n",
    "from Bio import Entrez, SeqIO\n",
    "from Bio.SeqUtils.ProtParam import ProteinAnalysis\n",
    "\n",
    "# Configuración de Entrez\n",
    "Entrez.email = 'lidia.catota@est.ikiam.edu.ec'  # Ingresa tu dirección de correo electrónico\n",
    "\n",
    "# Obtener secuencia de ADN desde NCBI\n",
    "def obtener_secuencia_ncbi(id_secuencia):\n",
    "    handle = Entrez.efetch(db='nucleotide', id=id_secuencia, rettype='fasta', retmode='text')\n",
    "    record = SeqIO.read(handle, 'fasta')\n",
    "    return record.seq\n",
    "\n",
    "# Obtener péptidos a partir de una secuencia de ADN\n",
    "def obtener_peptidos(secuencia_adn):\n",
    "    proteinas = []\n",
    "    protein_seq = secuencia_adn.translate()\n",
    "    for peptide in protein_seq.split('*'):\n",
    "        if peptide.startswith('M'):\n",
    "            proteinas.append(peptide)\n",
    "    return proteinas\n",
    "\n",
    "# Calcular peso molecular e índice de estabilidad\n",
    "def calcular_propiedades(proteinas):\n",
    "    resultados = []\n",
    "    for proteina in proteinas:\n",
    "        analysis = ProteinAnalysis(proteina)\n",
    "        molecular_weight = analysis.molecular_weight()\n",
    "        instability_index = analysis.instability_index()\n",
    "        resultados.append((proteina, molecular_weight, instability_index))\n",
    "    return resultados\n",
    "\n",
    "# Guardar resultados en un archivo CSV\n",
    "def guardar_resultados(resultados, filename):\n",
    "    df = pd.DataFrame(resultados, columns=['Proteina', 'Peso Molecular', 'Indice de Estabilidad'])\n",
    "    df.to_csv(filename, index=False)\n",
    "\n",
    "# Generar gráfico joinplot\n",
    "def generar_grafico(resultados):\n",
    "    df = pd.DataFrame(resultados, columns=['Peso Molecular', 'Indice de Estabilidad'])\n",
    "    plt.figure(figsize=(8, 6))\n",
    "    plt.style.use('seaborn-whitegrid')\n",
    "    plt.scatter(df['Peso Molecular'], df['Indice de Estabilidad'], s=60, color='purple', alpha=0.6)\n",
    "    plt.xlabel('Peso Molecular')\n",
    "    plt.ylabel('Indice de Estabilidad')\n",
    "    plt.title('Relación entre Peso Molecular e Índice de Estabilidad')\n",
    "    plt.savefig('results/glupeptides.png')\n",
    "    plt.show()\n",
    "\n",
    "# ID de la secuencia de ADN en NCBI (ejemplo: ID de la secuencia de la insulina humana)\n",
    "secuencia_id = 'NM_000207.3'\n",
    "\n",
    "# Obtener secuencia de ADN\n",
    "secuencia_adn = obtener_secuencia_ncbi(secuencia_id)\n",
    "\n",
    "# Obtener péptidos\n",
    "proteinas = obtener_peptidos(secuencia_adn)\n",
    "\n",
    "# Calcular propiedades\n",
    "resultados = calcular_propiedades(proteinas)\n",
    "\n",
    "# Guardar resultados en un archivo CSV\n",
    "guardar_resultados(resultados, 'results/glupeptides.csv')\n",
    "\n",
    "# Generar gráfico joinplot\n",
    "generar_grafico(resultados)\n"
   ]
  },
  {
   "cell_type": "markdown",
   "metadata": {
    "id": "-MaHCuV8sfkP"
   },
   "source": [
    "## Ejercicio 0.2 [0.5 puntos]\n",
    "\n",
    "\n",
    "1. Cree un archivo ```Readme.md``` que debe tener lo siguiente:\n",
    "- Datos personales\n",
    "- Características del computador\n",
    "- Versión de Python/Anaconda y de cada uno de los módulos/paquetes y utilizados\n",
    "- Explicación de la data utilizada\n",
    "\n",
    "2. Realice al menos 1 control de la versión (commits) por cada ejercicio (del 1 al 5), con un mensaje que inicie como: \n",
    "\n",
    "```sh \n",
    "Carlitos Alimaña ha realizado el ejercicio 1.1  \n",
    "```\n",
    "```sh \n",
    "Carlitos Alimaña ha realizado el ejercicio 2.1\n",
    "```\n",
    "```sh \n",
    "...\n",
    "```\n"
   ]
  },
  {
   "cell_type": "code",
   "execution_count": 93,
   "metadata": {},
   "outputs": [],
   "source": [
    "from Bio import Entrez\n",
    "\n",
    "# Configuración de Entrez\n",
    "Entrez.email = 'https://github.com/LidiaCatota/2023I_gbi6_exam1/tree/main/exam2_Python'  # Ingresa tu dirección de correo electrónico\n",
    "\n"
   ]
  },
  {
   "cell_type": "code",
   "execution_count": null,
   "metadata": {},
   "outputs": [],
   "source": []
  }
 ],
 "metadata": {
  "colab": {
   "provenance": []
  },
  "kernelspec": {
   "display_name": "Python 3 (ipykernel)",
   "language": "python",
   "name": "python3"
  },
  "language_info": {
   "codemirror_mode": {
    "name": "ipython",
    "version": 3
   },
   "file_extension": ".py",
   "mimetype": "text/x-python",
   "name": "python",
   "nbconvert_exporter": "python",
   "pygments_lexer": "ipython3",
   "version": "3.9.12"
  },
  "latex_envs": {
   "LaTeX_envs_menu_present": true,
   "autoclose": false,
   "autocomplete": true,
   "bibliofile": "biblio.bib",
   "cite_by": "apalike",
   "current_citInitial": 1,
   "eqLabelWithNumbers": true,
   "eqNumInitial": 1,
   "hotkeys": {
    "equation": "Ctrl-E",
    "itemize": "Ctrl-I"
   },
   "labels_anchors": false,
   "latex_user_defs": false,
   "report_style_numbering": false,
   "user_envs_cfg": false
  },
  "toc": {
   "base_numbering": 1,
   "nav_menu": {},
   "number_sections": true,
   "sideBar": false,
   "skip_h1_title": false,
   "title_cell": "Table of Contents",
   "title_sidebar": "Contents",
   "toc_cell": false,
   "toc_position": {
    "height": "1152.67px",
    "left": "41px",
    "top": "110px",
    "width": "253.458px"
   },
   "toc_section_display": true,
   "toc_window_display": false
  },
  "varInspector": {
   "cols": {
    "lenName": 16,
    "lenType": 16,
    "lenVar": 40
   },
   "kernels_config": {
    "python": {
     "delete_cmd_postfix": "",
     "delete_cmd_prefix": "del ",
     "library": "var_list.py",
     "varRefreshCmd": "print(var_dic_list())"
    },
    "r": {
     "delete_cmd_postfix": ") ",
     "delete_cmd_prefix": "rm(",
     "library": "var_list.r",
     "varRefreshCmd": "cat(var_dic_list()) "
    }
   },
   "types_to_exclude": [
    "module",
    "function",
    "builtin_function_or_method",
    "instance",
    "_Feature"
   ],
   "window_display": false
  }
 },
 "nbformat": 4,
 "nbformat_minor": 1
}
